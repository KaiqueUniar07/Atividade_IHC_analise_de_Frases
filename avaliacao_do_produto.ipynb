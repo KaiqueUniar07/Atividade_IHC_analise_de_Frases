{
  "nbformat": 4,
  "nbformat_minor": 0,
  "metadata": {
    "colab": {
      "provenance": []
    },
    "kernelspec": {
      "name": "python3",
      "display_name": "Python 3"
    },
    "language_info": {
      "name": "python"
    }
  },
  "cells": [
    {
      "cell_type": "code",
      "execution_count": 31,
      "metadata": {
        "colab": {
          "base_uri": "https://localhost:8080/"
        },
        "id": "9XRjKilwkrvq",
        "outputId": "7984d95a-f58f-4a2f-fb64-c5bf13ede36e"
      },
      "outputs": [
        {
          "output_type": "stream",
          "name": "stdout",
          "text": [
            "Digite sua avaliação sobre o produto: Sem dúvida o melhor notebook nesta faixa. (r$3,799). 16 gb de ram 1 tb de memória, muito rápido, silencioso, com win11. Melhor aquisição que fiz. E vim de um macbook pro!. Recomendo.\n",
            "Essa frase é positiva\n"
          ]
        }
      ],
      "source": [
        " # pip install scikit-learn - Caso o professor não utilizar o Google colab para executar, é necessário instalar\n",
        " # para que funcione correttamente\n",
        "\n",
        "from sklearn.feature_extraction.text import CountVectorizer\n",
        "\n",
        "from sklearn.naive_bayes import MultinomialNB\n",
        "\n",
        "\n",
        "frases = [\n",
        "    \"Eu adorei o produto!\",\n",
        "    \"O produto atendeu as minhas necessidades\",\n",
        "    \"Estou muito satisfeito com a compra\",\n",
        "    \"Excelente qualidade\",\n",
        "    \"Recomendo a todos\",\n",
        "    \"Entrega super rápida\",\n",
        "    \"Gostei bastante\",\n",
        "    \"Produto maravilhoso!\",\n",
        "    \"Superou minhas expectativas\",\n",
        "    \"Ótimo custo-benefício\",\n",
        "    \"Vou comprar novamente\",\n",
        "    \"Atendimento excelente\",\n",
        "    \"Produto veio certinho\",\n",
        "    \"Muito bom mesmo\",\n",
        "    \"Melhor do que eu esperava\",\n",
        "    \"Tudo certo com a entrega\",\n",
        "    \"Produto de primeira\",\n",
        "    \"O produto chegou quebrado\",\n",
        "    \"Nunca mais vou comprar\",\n",
        "    \"Não gostei do produto\",\n",
        "    \"Produto de péssima qualidade\",\n",
        "    \"Demorou demais para chegar\",\n",
        "    \"Veio com defeito\",\n",
        "    \"Atendimento horrível\",\n",
        "    \"Muito ruim\",\n",
        "    \"Não recomendo\",\n",
        "    \"Produto diferente do anunciado\",\n",
        "    \"Chegou danificado\",\n",
        "    \"Péssima experiência\",\n",
        "    \"Fui enganado\",\n",
        "    \"A embalagem estava rasgada\",\n",
        "    \"Produto incompleto\",\n",
        "    \"Faltando peças\",\n",
        "    \"Entrega no prazo\",\n",
        "    \"Produto comum\",\n",
        "    \"Nada de mais\",\n",
        "    \"Funciona como esperado\",\n",
        "    \"É ok\",\n",
        "    \"Ainda estou testando\",\n",
        "    \"Chegou hoje\",\n",
        "    \"Parece normal\",\n",
        "    \"Até agora tudo bem\",\n",
        "    \"Recebi dentro do prazo\",\n",
        "    \"Não tenho opinião formada\",\n",
        "    \"Uso pouco para avaliar\",\n",
        "    \"É o que promete\",\n",
        "    \"Não notei diferença\",\n",
        "    \"Cumpre o que diz\",\n",
        "    \"Vamos ver com o tempo\"\n",
        "]\n",
        "\n",
        "# 1 = positivo\n",
        "# 0 = negativo\n",
        "#  2 = neutro\n",
        "rotulos = [1, 1, 1, 1, 1, 1, 1, 1, 1, 1,1, 1, 1, 1, 1, 1, 1,\n",
        "           0, 0, 0, 0, 0, 0, 0, 0, 0, 0,0, 0, 0, 0, 0, 0,\n",
        "           2, 2, 2, 2, 2, 2, 2, 2, 2, 2,2, 2, 2, 2, 2, 2]\n",
        "\n",
        "\n",
        "transformador_texto = CountVectorizer()\n",
        "X = transformador_texto.fit_transform(frases)\n",
        "\n",
        "modelo = MultinomialNB()\n",
        "modelo.fit(X, rotulos)\n",
        "\n",
        "\n",
        "entrada = input(\"Digite sua avaliação sobre o produto: \")\n",
        "\n",
        "X_teste = transformador_texto.transform([entrada])\n",
        "previsao = modelo.predict(X_teste)[0]\n",
        "\n",
        "if previsao == 1:\n",
        "    print(\"Essa frase é positiva\")\n",
        "elif previsao == 0:\n",
        "    print(\"Essa frase é negativa\")\n",
        "else:\n",
        "    print(\"Essa frase é neutra\")\n"
      ]
    }
  ]
}